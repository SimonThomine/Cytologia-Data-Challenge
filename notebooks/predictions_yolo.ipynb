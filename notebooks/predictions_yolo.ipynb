{
 "cells": [
  {
   "cell_type": "markdown",
   "metadata": {},
   "source": [
    "# File to fill the test.csv for prediction"
   ]
  },
  {
   "cell_type": "code",
   "execution_count": 1,
   "metadata": {},
   "outputs": [],
   "source": [
    "\n",
    "import numpy as np\n",
    "import sys\n",
    "import pandas as pd\n",
    "from tqdm import tqdm\n",
    "import shutil\n",
    "\n",
    "sys.path.append(\"../\")\n",
    "from detection import YoloInference\n",
    "from notebooks.utils_notebook import filter_boxes"
   ]
  },
  {
   "cell_type": "code",
   "execution_count": null,
   "metadata": {},
   "outputs": [],
   "source": [
    "itos={0:'B', 1:'BA', 2:'EO', 3:'Er', 4:'LAM3', 5:'LF', 6:'LGL', 7:'LH_lyAct', 8:'LLC', 9:'LM', 10:'LY', 11:'LZMG', 12:'LyB', 13:'Lysee', 14:'M', 15:'MBL', 16:'MM', 17:'MO', 18:'MoB', 19:'PM', 20:'PNN', 21:'SS', 22:'Thromb'}\n",
    "\n",
    "\n",
    "data_path=\"../data/Cytologia/images\"\n",
    "\n",
    "\n",
    "test_csv_path=\"../data/Cytologia/test.csv\"\n",
    "csv_path=\"../data/Cytologia/predictions.csv\"\n",
    "shutil.copy(test_csv_path,\"../data/Cytologia/predictions.csv\")\n",
    "\n",
    "df = pd.read_csv(csv_path)\n",
    "yolo_engine=YoloInference(\"../models/detection/Cytologia_msk_iou_cheat_0.8/yolo11n/384/curated250/train/weights/best.pt\",device=\"cuda\")\n",
    "#yolo_engine=YoloInference(\"models/detection/Cytologia_msk_iou/yolo11m/384/curated250/train/weights/best.pt\",device=\"cuda\") #! BASELINE\n",
    "#yolo_engine=YoloInference(\"models/detection/Cytologia_yolo_msk_black/yolov10n/384/curated/train/weights/best.pt\",device=\"cuda\")\n",
    "\n",
    "# Get unique NAME to infer each image only once\n",
    "if not {'x1', 'y1', 'x2', 'y2', 'class'}.issubset(df.columns):\n",
    "    for col in ['x1', 'y1', 'x2', 'y2', 'class']:\n",
    "        df[col] = np.nan\n",
    "\n",
    "# Get unique NAME\n",
    "names = df[\"NAME\"].unique()\n",
    "tqdm_names= tqdm(names)\n",
    "no_dets=0\n",
    "for name in tqdm_names:\n",
    "    img_path=f\"{data_path}/{name}\"\n",
    "    # get occurences of name\n",
    "    occurences = df[df[\"NAME\"]==name]\n",
    "    trustii_ids = occurences[\"trustii_id\"].tolist()\n",
    "    boxes,scores,labels=yolo_engine.predict(img_path,verbose=False,conf=0.00001,return_probs=False)\n",
    "\n",
    "    boxes=list(boxes)\n",
    "    scores=list(scores)\n",
    "    labels=list(labels)\n",
    "    \n",
    "    if len(occurences) < len(boxes):\n",
    "        boxes,scores,labels=filter_boxes(occurences,boxes,scores,labels)\n",
    "\n",
    "    most_conf_cls=None\n",
    "    for idx,(box,score,label) in enumerate(zip(boxes,scores,labels)):\n",
    "        if idx==0:\n",
    "            most_conf_cls=itos[label]\n",
    "        x1,y1,x2,y2 = box\n",
    "        trustii_id = trustii_ids[idx]\n",
    "        cls=itos[label] #if score>0.1 else most_conf_cls # ! seems to work bad ....\n",
    "        df.loc[df[\"trustii_id\"] == trustii_id, [\"x1\", \"y1\", \"x2\", \"y2\", \"class\"]] = [x1, y1, x2, y2, cls]\n",
    "\n",
    "    # case where a wbc is not detected (even with this very low threshold)\n",
    "\n",
    "    for i in range(len(boxes),len(occurences)):\n",
    "        trustii_id = trustii_ids[i]\n",
    "        # better if we take mean of boxes along the full dataset ? (depending if there is other cells in the image)\n",
    "        # we can also call the classifier on the full image (another classifier)\n",
    "        df.loc[df[\"trustii_id\"] == trustii_id, [\"x1\", \"y1\", \"x2\", \"y2\", \"class\"]] = [0, 0, 0, 0, 'PNN']\n",
    "\n",
    "print(\"Number of undetected WBCs: \",no_dets)\n",
    "df.to_csv(csv_path, index=False)\n",
    "print(\"CSV mis à jour avec succès.\")\n"
   ]
  }
 ],
 "metadata": {
  "kernelspec": {
   "display_name": "cytologia",
   "language": "python",
   "name": "python3"
  },
  "language_info": {
   "codemirror_mode": {
    "name": "ipython",
    "version": 3
   },
   "file_extension": ".py",
   "mimetype": "text/x-python",
   "name": "python",
   "nbconvert_exporter": "python",
   "pygments_lexer": "ipython3",
   "version": "3.11.11"
  }
 },
 "nbformat": 4,
 "nbformat_minor": 2
}
