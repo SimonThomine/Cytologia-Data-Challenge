{
 "cells": [
  {
   "cell_type": "markdown",
   "metadata": {},
   "source": [
    "## Clean images to avoid the error \"Corrupt JPEG data: 27 extraneous bytes before marker 0xdb\" "
   ]
  },
  {
   "cell_type": "code",
   "execution_count": null,
   "metadata": {},
   "outputs": [],
   "source": [
    "import os \n",
    "from PIL import Image\n",
    "\n",
    "def check_and_fix_image(file_path):\n",
    "    \"\"\"Checks if the image is corrupted and fixes it if possible\"\"\"\n",
    "    try:\n",
    "        with Image.open(file_path) as img:\n",
    "            img.verify() \n",
    "    except (IOError, SyntaxError) as e:\n",
    "        print(f\"Corrupted file : {file_path} - {e}\")\n",
    "        return False\n",
    "    return True\n",
    "\n",
    "def reprocess_image(file_path):\n",
    "    \"\"\"Reprocesses the image to fix any issues\"\"\"\n",
    "    try:\n",
    "        with Image.open(file_path) as img:\n",
    "            img = img.convert(\"RGB\")  \n",
    "            img.save(file_path, \"JPEG\", quality=95)  \n",
    "    except Exception as e:\n",
    "        print(f\"Error processing {file_path}: {e}\")\n",
    "\n",
    "# Reprocesses all images in the given directory\n",
    "base_path = \"../data/Cytologia/images/\"\n",
    "for root, dirs, files in os.walk(base_path):\n",
    "    for file in files:\n",
    "        if file.lower().endswith((\".jpg\", \".jpeg\")):\n",
    "            reprocess_image(os.path.join(root, file))"
   ]
  }
 ],
 "metadata": {
  "kernelspec": {
   "display_name": "cytologia",
   "language": "python",
   "name": "python3"
  },
  "language_info": {
   "codemirror_mode": {
    "name": "ipython",
    "version": 3
   },
   "file_extension": ".py",
   "mimetype": "text/x-python",
   "name": "python",
   "nbconvert_exporter": "python",
   "pygments_lexer": "ipython3",
   "version": "3.11.11"
  }
 },
 "nbformat": 4,
 "nbformat_minor": 2
}
