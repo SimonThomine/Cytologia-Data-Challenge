{
 "cells": [
  {
   "cell_type": "markdown",
   "metadata": {},
   "source": [
    "# Notebook to clean and correct the training dataset"
   ]
  },
  {
   "cell_type": "markdown",
   "metadata": {},
   "source": [
    "We will modify the bounding boxes to have a better precision (based on a trained yolo) and mask the ground_truth that have no match and the yolo boxes that have no match aswell (to correct misplaced bounding boxes along with non annotated wbc)."
   ]
  },
  {
   "cell_type": "markdown",
   "metadata": {},
   "source": [
    "## Import and initialization"
   ]
  },
  {
   "cell_type": "code",
   "execution_count": 1,
   "metadata": {},
   "outputs": [],
   "source": [
    "import os\n",
    "import sys\n",
    "import shutil\n",
    "import pandas as pd\n",
    "from tqdm import tqdm\n",
    "\n",
    "sys.path.append(\"../\")\n",
    "\n",
    "from detection import YoloInference\n",
    "from notebooks.utils_notebook import curate_image,split_dataset_from_csv"
   ]
  },
  {
   "cell_type": "code",
   "execution_count": null,
   "metadata": {},
   "outputs": [],
   "source": [
    "# if the mode is \"msk_iou\" we will mask the ground_truth boxes that have an iou lower than the threshold with the predicted boxes\n",
    "# else we will keep these boxes\n",
    "mode=\"msk_iou\"\n",
    "\n",
    "origin_csv_path=\"../data/Cytologia/train.csv\"\n",
    "\n",
    "csv_path=f\"../data/Cytologia/train_{mode}.csv\"\n",
    "if not os.path.exists(csv_path):\n",
    "    shutil.copy(origin_csv_path,csv_path)\n",
    "else:\n",
    "    raise ValueError(\"File already exists\")\n",
    "\n",
    "df = pd.read_csv(csv_path)\n",
    "images_list = df[\"NAME\"].unique()\n",
    "path=\"../data/Cytologia/images/\"\n"
   ]
  },
  {
   "cell_type": "markdown",
   "metadata": {},
   "source": [
    "## Check and modify the csv given the specified mode"
   ]
  },
  {
   "cell_type": "markdown",
   "metadata": {},
   "source": [
    "If you want to create the yolo dataset based on the original annotations, skip this part."
   ]
  },
  {
   "cell_type": "code",
   "execution_count": null,
   "metadata": {},
   "outputs": [],
   "source": [
    "\n",
    "yolo_engine=YoloInference(\"../models/detection/Cytologia_yolo/yolo11n/384/no_curation/train/weights/best.pt\",device=\"cuda\")\n",
    "\n",
    "tqdm_images=tqdm(images_list,desc=\"Processing images\",unit=\"image\")\n",
    "\n",
    "new_data = []\n",
    "\n",
    "for name in tqdm_images:\n",
    "    img_path=os.path.join(path,name)\n",
    "    df_img=df[df['NAME']==name]\n",
    "    boxes = df_img[['x1', 'y1', 'x2', 'y2']].apply(tuple, axis=1).tolist()\n",
    "    classes = df_img['class'].tolist()\n",
    "    yolo_output=yolo_engine.predict(img_path)\n",
    "    curate_image(boxes,yolo_output,img_path,classes,df,new_data,mode=\"msk_iou\")\n",
    "if new_data:\n",
    "    df = pd.concat([df, pd.DataFrame(new_data)], ignore_index=True)         \n",
    "    \n",
    "df.to_csv(csv_path, index=False)\n"
   ]
  },
  {
   "cell_type": "markdown",
   "metadata": {},
   "source": [
    "## Construct the yolo dataset (images and labels)"
   ]
  },
  {
   "cell_type": "code",
   "execution_count": null,
   "metadata": {},
   "outputs": [],
   "source": [
    "data_path=\"../data/Cytologia/images/\"\n",
    "new_data_path=f\"../data/Cytologia_{mode}/\"\n",
    "os.makedirs(new_data_path,exist_ok=True)\n",
    "csv_path=f\"../data/Cytologia/train_{mode}.csv\"\n",
    "\n",
    "# To create the dataset with the original labels, you can change csv_path to origin_csv_path\n",
    "split_dataset_from_csv(new_data_path,data_path, csv_path)\n"
   ]
  }
 ],
 "metadata": {
  "kernelspec": {
   "display_name": "cytologia",
   "language": "python",
   "name": "python3"
  },
  "language_info": {
   "codemirror_mode": {
    "name": "ipython",
    "version": 3
   },
   "file_extension": ".py",
   "mimetype": "text/x-python",
   "name": "python",
   "nbconvert_exporter": "python",
   "pygments_lexer": "ipython3",
   "version": "3.11.11"
  }
 },
 "nbformat": 4,
 "nbformat_minor": 2
}
